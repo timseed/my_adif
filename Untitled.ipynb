{
 "cells": [
  {
   "cell_type": "code",
   "execution_count": 15,
   "metadata": {
    "collapsed": true
   },
   "outputs": [],
   "source": [
    "import re\n",
    "re_fld=re.compile(r'[<]([a-z_]+)[:]([0-9]+)[>]([A-Za-z0-9\\.]+)')\n",
    "line=\"<call:5>LZ3ZZ <qso_date:8>20161126 <time_on:6>021245 <time_off:6>021245 <band:3>40m <freq:8>7.007450  <mode:2>CW <rst_sent:3>599 <rst_rcvd:3>599 <dxcc:3>212 <cqz:2>20 <ituz:2>28 <cont:2>EU <my_gridsquare:6>LL93MA <clublog_qso_upload_status:1>M <contest_id:8>CQ-WW-CW <srx_string:2>20 <stx_string:2>21 <clublog_qso_upload_status:1>M <lotw_qsl_sent:1>M <lotw_qsl_rcvd:1>N <eor>\"\n",
    "\n",
    "data=re_fld.findall(line)\n",
    "d={}\n",
    "for a in data:\n",
    "    d[a[0]]=a[2]"
   ]
  },
  {
   "cell_type": "code",
   "execution_count": 20,
   "metadata": {
    "collapsed": false
   },
   "outputs": [
    {
     "data": {
      "text/plain": [
       "{'band': '40m',\n",
       " 'call': 'LZ3ZZ',\n",
       " 'clublog_qso_upload_status': 'M',\n",
       " 'cont': 'EU',\n",
       " 'contest_id': 'CQ',\n",
       " 'cqz': '20',\n",
       " 'dxcc': '212',\n",
       " 'freq': '7.007450',\n",
       " 'ituz': '28',\n",
       " 'lotw_qsl_rcvd': 'N',\n",
       " 'lotw_qsl_sent': 'M',\n",
       " 'mode': 'CW',\n",
       " 'my_gridsquare': 'LL93MA',\n",
       " 'qso_date': '20161126',\n",
       " 'rst_rcvd': '599',\n",
       " 'rst_sent': '599',\n",
       " 'srx_string': '20',\n",
       " 'stx_string': '21',\n",
       " 'time_off': '021245',\n",
       " 'time_on': '021245'}"
      ]
     },
     "execution_count": 20,
     "metadata": {},
     "output_type": "execute_result"
    }
   ],
   "source": [
    "d"
   ]
  },
  {
   "cell_type": "code",
   "execution_count": 18,
   "metadata": {
    "collapsed": false
   },
   "outputs": [
    {
     "data": {
      "text/plain": [
       "{'band': '40m',\n",
       " 'call': 'LZ3ZZ',\n",
       " 'clublog_qso_upload_status': 'M',\n",
       " 'cont': 'EU',\n",
       " 'contest_id': 'CQ',\n",
       " 'cqz': '20',\n",
       " 'dxcc': '212',\n",
       " 'freq': '7.007450',\n",
       " 'ituz': '28',\n",
       " 'lotw_qsl_rcvd': 'N',\n",
       " 'lotw_qsl_sent': 'M',\n",
       " 'mode': 'CW',\n",
       " 'my_gridsquare': 'LL93MA',\n",
       " 'qso_date': '20161126',\n",
       " 'rst_rcvd': '599',\n",
       " 'rst_sent': '599',\n",
       " 'srx_string': '20',\n",
       " 'stx_string': '21',\n",
       " 'time_off': '021245',\n",
       " 'time_on': '021245'}"
      ]
     },
     "execution_count": 18,
     "metadata": {},
     "output_type": "execute_result"
    }
   ],
   "source": [
    "d"
   ]
  },
  {
   "cell_type": "code",
   "execution_count": null,
   "metadata": {
    "collapsed": true
   },
   "outputs": [],
   "source": []
  }
 ],
 "metadata": {
  "kernelspec": {
   "display_name": "Python 3",
   "language": "python",
   "name": "python3"
  },
  "language_info": {
   "codemirror_mode": {
    "name": "ipython",
    "version": 3
   },
   "file_extension": ".py",
   "mimetype": "text/x-python",
   "name": "python",
   "nbconvert_exporter": "python",
   "pygments_lexer": "ipython3",
   "version": "3.5.2"
  }
 },
 "nbformat": 4,
 "nbformat_minor": 1
}
